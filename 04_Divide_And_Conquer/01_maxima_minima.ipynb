{
 "cells": [
  {
   "cell_type": "markdown",
   "metadata": {},
   "source": [
    "## **Maxima Minima Using Divide And Conquer**"
   ]
  },
  {
   "cell_type": "code",
   "execution_count": null,
   "metadata": {},
   "outputs": [],
   "source": [
    "# Function Defination\n",
    "\n",
    "# This function takes an array and two indices as input and returns\n",
    "# a tuple containing the maximum and minimum elements in the array\n",
    "# between the given indices (inclusive)\n",
    "def maxima_minima(arr, i, j):\n",
    "    # Base case: if the range is empty, return the first element\n",
    "    if i == j:\n",
    "        min = arr[i]\n",
    "        max = arr[i]\n",
    "    # Base case: if the range has one element, return that element\n",
    "    elif i == j - 1:\n",
    "        if arr[i] > arr[j]:\n",
    "            max = arr[i]\n",
    "            min = arr[j]\n",
    "        else:\n",
    "            max = arr[j]\n",
    "            min = arr[i]\n",
    "    # Recursive case: split the range into two halves and\n",
    "    # find the maximum and minimum for each half, then return\n",
    "    # the maximum and minimum of the two halves\n",
    "    else:\n",
    "        mid = i + (j - i) // 2\n",
    "        # Recursively call the function for the left half\n",
    "        maxl, minl = maxima_minima(arr, i, mid)\n",
    "        # Recursively call the function for the right half\n",
    "        maxr, minr = maxima_minima(arr, mid + 1, j)\n",
    "\n",
    "        # Find the maximum of the two halves\n",
    "        if maxl > maxr:\n",
    "            max = maxl\n",
    "        else:\n",
    "            max = maxr\n",
    "\n",
    "        # Find the minimum of the two halves\n",
    "        if minl < minr:\n",
    "            min = minl\n",
    "        else:\n",
    "            min = minr\n",
    "\n",
    "    # Return the maximum and minimum\n",
    "    return max, min\n",
    "\n",
    "\n",
    "# Driver code\n",
    "# Create an array\n",
    "arr = [70,50,45,10,12,15,75,29,37,57]\n",
    "# Call the function with the entire array\n",
    "result = maxima_minima(arr, 0, len(arr)-1)\n",
    "# Print the result\n",
    "print(result)"
   ]
  }
 ],
 "metadata": {
  "language_info": {
   "name": "python"
  }
 },
 "nbformat": 4,
 "nbformat_minor": 2
}
