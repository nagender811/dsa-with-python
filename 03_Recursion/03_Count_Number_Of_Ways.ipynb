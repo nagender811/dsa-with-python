{
 "cells": [
  {
   "cell_type": "markdown",
   "metadata": {},
   "source": [
    "## **Count Number of Ways**\n"
   ]
  },
  {
   "cell_type": "markdown",
   "metadata": {},
   "source": [
    "### **Approach 1: Using Recursion**\n"
   ]
  },
  {
   "cell_type": "code",
   "execution_count": 7,
   "metadata": {},
   "outputs": [
    {
     "name": "stdout",
     "output_type": "stream",
     "text": [
      "Numbers of Ways to Reach Upstairs: 8\n"
     ]
    }
   ],
   "source": [
    "# Time Complexity = O(2^n)\n",
    "# Helping Function\n",
    "def helper(n):\n",
    "    if n <= 1:\n",
    "        return n\n",
    "    else:\n",
    "        return helper(n - 1) + helper(n - 2)\n",
    "\n",
    "\n",
    "# Function Defination\n",
    "def count_no_of_ways(s):\n",
    "    return helper(s + 1)\n",
    "\n",
    "\n",
    "# Drivers Code\n",
    "number = 5\n",
    "result = count_no_of_ways(number)\n",
    "\n",
    "print(\"Numbers of Ways to Reach Upstairs:\", result)"
   ]
  },
  {
   "cell_type": "markdown",
   "metadata": {},
   "source": [
    "### **Approach 2: Using Iterative Method**\n"
   ]
  },
  {
   "cell_type": "code",
   "execution_count": 8,
   "metadata": {},
   "outputs": [
    {
     "name": "stdout",
     "output_type": "stream",
     "text": [
      "Numbers of Ways to Reach Upstairs: 8\n"
     ]
    }
   ],
   "source": [
    "# Time Complexity = O(2^n)\n",
    "# Function Defination\n",
    "def count_no_of_ways(n):\n",
    "    if n == 0 or n == 1 or n == 2:\n",
    "        return n\n",
    "    else:\n",
    "        a = 0\n",
    "        b = 1\n",
    "        for i in range(3, n + 3):\n",
    "            c = a + b\n",
    "            a = b\n",
    "            b = c\n",
    "        return b\n",
    "\n",
    "\n",
    "# Drivers Code\n",
    "number = 5\n",
    "result = count_no_of_ways(number)\n",
    "\n",
    "print(\"Numbers of Ways to Reach Upstairs:\", result)"
   ]
  }
 ],
 "metadata": {
  "kernelspec": {
   "display_name": "Python 3",
   "language": "python",
   "name": "python3"
  },
  "language_info": {
   "codemirror_mode": {
    "name": "ipython",
    "version": 3
   },
   "file_extension": ".py",
   "mimetype": "text/x-python",
   "name": "python",
   "nbconvert_exporter": "python",
   "pygments_lexer": "ipython3",
   "version": "3.12.5"
  }
 },
 "nbformat": 4,
 "nbformat_minor": 2
}
