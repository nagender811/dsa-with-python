{
 "cells": [
  {
   "cell_type": "markdown",
   "metadata": {},
   "source": [
    "## **Fibonacci Series**"
   ]
  },
  {
   "cell_type": "markdown",
   "metadata": {},
   "source": [
    "### **Approach 1: Using Recursion**"
   ]
  },
  {
   "cell_type": "code",
   "execution_count": 29,
   "metadata": {},
   "outputs": [
    {
     "name": "stdout",
     "output_type": "stream",
     "text": [
      "[0, 1, 2, 3, 5, 8, 13, 21, 34, 55]\n"
     ]
    }
   ],
   "source": [
    "# Time Complexity = O(2^n)\n",
    "# Function Defination\n",
    "def fibo(n):\n",
    "    # Base Condition\n",
    "    if n <= 1:\n",
    "        return n\n",
    "    else:\n",
    "        return fibo(n-1) + fibo(n-2)\n",
    "    \n",
    "# Drivers Code\n",
    "number = 10\n",
    "series = []\n",
    "for i in range(number):\n",
    "    series.append(fibo(i))  # Function Calling\n",
    "\n",
    "print(series)"
   ]
  },
  {
   "cell_type": "markdown",
   "metadata": {},
   "source": [
    "### **Approach 2: Using Iterrative Method**"
   ]
  },
  {
   "cell_type": "code",
   "execution_count": 35,
   "metadata": {},
   "outputs": [
    {
     "name": "stdout",
     "output_type": "stream",
     "text": [
      "[0, 1, 2, 3, 5, 8, 13, 21, 34, 55]\n"
     ]
    }
   ],
   "source": [
    "# Time Complexity = O(n)\n",
    "# Function Defination\n",
    "def fibo(n):\n",
    "    \n",
    "    # Base Condition\n",
    "\n",
    "    if n == 1 or n == 0:\n",
    "        return n\n",
    "    else:\n",
    "        a = 0\n",
    "        b = 1\n",
    "        for i in range(2,n+1):\n",
    "            c = a + b\n",
    "\n",
    "            \n",
    "            a = b\n",
    "            b = c\n",
    "        return b\n",
    "    \n",
    "# Drivers Code\n",
    "number = 5\n",
    "series = []\n",
    "for i in range(number):\n",
    "    series.append(fibo(i))  # Function Calling\n",
    "\n",
    "print(series)\n",
    "    "
   ]
  }
 ],
 "metadata": {
  "kernelspec": {
   "display_name": "Python 3",
   "language": "python",
   "name": "python3"
  },
  "language_info": {
   "codemirror_mode": {
    "name": "ipython",
    "version": 3
   },
   "file_extension": ".py",
   "mimetype": "text/x-python",
   "name": "python",
   "nbconvert_exporter": "python",
   "pygments_lexer": "ipython3",
   "version": "3.12.5"
  }
 },
 "nbformat": 4,
 "nbformat_minor": 2
}
