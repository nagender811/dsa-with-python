{
 "cells": [
  {
   "cell_type": "markdown",
   "metadata": {},
   "source": [
    "## **Factorial**\n"
   ]
  },
  {
   "cell_type": "markdown",
   "metadata": {},
   "source": [
    "### **Approach 1: Factorial using Iterative Method**\n"
   ]
  },
  {
   "cell_type": "code",
   "execution_count": 10,
   "metadata": {},
   "outputs": [
    {
     "name": "stdout",
     "output_type": "stream",
     "text": [
      "Factorial is: 120\n"
     ]
    }
   ],
   "source": [
    "# Time Complexity = O(n)\n",
    "# Function Defination\n",
    "def fact(n):\n",
    "    # Base Case Condition\n",
    "    # Small problem\n",
    "    result = 1\n",
    "    if n == 0 or n == 1:\n",
    "        return 1\n",
    "    else:\n",
    "        # iterative approach\n",
    "        for i in range(2, n + 1):\n",
    "            result = result * i\n",
    "    return result\n",
    "\n",
    "\n",
    "# Drivers code\n",
    "number = 5\n",
    "print(\"Factorial is:\", fact(number))"
   ]
  },
  {
   "cell_type": "markdown",
   "metadata": {},
   "source": [
    "### **Approach 2: Factorial using Recursion Method**\n"
   ]
  },
  {
   "cell_type": "code",
   "execution_count": 5,
   "metadata": {},
   "outputs": [
    {
     "name": "stdout",
     "output_type": "stream",
     "text": [
      "Factorial is: 120\n"
     ]
    }
   ],
   "source": [
    "# Time Complexity = O(n)\n",
    "# Function Defination\n",
    "def fact(n):\n",
    "    # Base Case Condition\n",
    "    # Small problem\n",
    "    if n == 0 or n == 1:\n",
    "        return 1\n",
    "    else:\n",
    "        # Recursion\n",
    "        return n * fact(n - 1)\n",
    "\n",
    "\n",
    "# Drivers code\n",
    "number = 5\n",
    "print(\"Factorial is:\", fact(number))"
   ]
  }
 ],
 "metadata": {
  "kernelspec": {
   "display_name": "Python 3",
   "language": "python",
   "name": "python3"
  },
  "language_info": {
   "codemirror_mode": {
    "name": "ipython",
    "version": 3
   },
   "file_extension": ".py",
   "mimetype": "text/x-python",
   "name": "python",
   "nbconvert_exporter": "python",
   "pygments_lexer": "ipython3",
   "version": "3.12.5"
  }
 },
 "nbformat": 4,
 "nbformat_minor": 2
}
