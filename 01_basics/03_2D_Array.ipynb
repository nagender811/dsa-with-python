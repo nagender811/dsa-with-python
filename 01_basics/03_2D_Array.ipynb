{
 "cells": [
  {
   "cell_type": "markdown",
   "metadata": {},
   "source": [
    "# **2D Matrix**"
   ]
  },
  {
   "cell_type": "markdown",
   "metadata": {},
   "source": [
    "### **Searching In Matrix**\n"
   ]
  },
  {
   "cell_type": "code",
   "execution_count": 11,
   "metadata": {},
   "outputs": [
    {
     "name": "stdout",
     "output_type": "stream",
     "text": [
      "Element is Present at  row: 0, and col: 1\n"
     ]
    }
   ],
   "source": [
    "# function defination\n",
    "def search_matrix(matrix, target):\n",
    "    # number of rows\n",
    "    row = len(matrix)\n",
    "    if row == 0:\n",
    "        return False\n",
    "\n",
    "    # number of columns\n",
    "    col = len(matrix[0])\n",
    "\n",
    "    start = 0\n",
    "    end = (row * col) - 1\n",
    "\n",
    "    # binary search implementation\n",
    "    while start <= end:\n",
    "        mid = start + (end - start) // 2\n",
    "\n",
    "        ## extracting the elements from the 2D array\n",
    "        ## row_number = idx // n\n",
    "        ## column_number = idx % n\n",
    "        mid_element = matrix[mid // col][mid % col]\n",
    "\n",
    "        if mid_element == target:\n",
    "            # return True  # return true or false\n",
    "            return f\"row: {mid // col}, col: {mid % col}\" # return the index of the element\n",
    "        elif mid_element < target:\n",
    "            start = mid + 1\n",
    "        else:\n",
    "            end = mid - 1\n",
    "    return False\n",
    "\n",
    "\n",
    "# Driver Code\n",
    "arr = [[1, 3, 5, 6], [7, 9, 11, 15], [16, 18, 20, 22]]\n",
    "target = 3\n",
    "\n",
    "# function call\n",
    "result = search_matrix(arr, target)\n",
    "print(\"Element is Present at \",result)"
   ]
  }
 ],
 "metadata": {
  "kernelspec": {
   "display_name": "Python 3",
   "language": "python",
   "name": "python3"
  },
  "language_info": {
   "codemirror_mode": {
    "name": "ipython",
    "version": 3
   },
   "file_extension": ".py",
   "mimetype": "text/x-python",
   "name": "python",
   "nbconvert_exporter": "python",
   "pygments_lexer": "ipython3",
   "version": "3.12.5"
  }
 },
 "nbformat": 4,
 "nbformat_minor": 2
}
