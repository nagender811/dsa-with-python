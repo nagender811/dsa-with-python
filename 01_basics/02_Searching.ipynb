{
 "cells": [
  {
   "cell_type": "markdown",
   "metadata": {},
   "source": [
    "### **Linear Search**\n"
   ]
  },
  {
   "cell_type": "code",
   "execution_count": 32,
   "metadata": {},
   "outputs": [
    {
     "name": "stdout",
     "output_type": "stream",
     "text": [
      "Element is Present at Index:  3\n"
     ]
    }
   ],
   "source": [
    "def linear_search(arr, num):\n",
    "    for i in range(len(arr)):\n",
    "        if arr[i] == num:\n",
    "            return i\n",
    "    return -1\n",
    "\n",
    "\n",
    "arr = [34, 22, 52, 12, 64, 23, 11]\n",
    "num = 12\n",
    "result = linear_search(arr, num)\n",
    "\n",
    "if result != -1:\n",
    "    print(\"Element is Present at Index: \", result)\n",
    "else:\n",
    "    print(\"Element is not present!\")"
   ]
  },
  {
   "cell_type": "markdown",
   "metadata": {},
   "source": [
    "### **Binary Search with Recursion Function**"
   ]
  },
  {
   "cell_type": "code",
   "execution_count": 28,
   "metadata": {},
   "outputs": [
    {
     "name": "stdout",
     "output_type": "stream",
     "text": [
      "Given number is not present in the array\n"
     ]
    }
   ],
   "source": [
    "\n",
    "\n",
    "def binary_search(arr, num, start, end):\n",
    "    if start > end:\n",
    "        return -1\n",
    "    \n",
    "    mid = start + (end - start)//2\n",
    "\n",
    "    if arr[mid] == num:\n",
    "        return mid\n",
    "    \n",
    "    elif arr[mid] < num:\n",
    "        start = mid + 1\n",
    "        return binary_search(arr, num, start, end)\n",
    "    \n",
    "    elif arr[mid] > num:\n",
    "        end = mid - 1\n",
    "        return binary_search(arr, num, start, end)\n",
    "\n",
    "\n",
    "arr = [2, 6, 21, 43, 87, 92, 98]\n",
    "num = 987\n",
    "result = binary_search(arr, num, 0, len(arr)-1)\n",
    "if result != -1:\n",
    "    print(\"Element present at index: \",result)\n",
    "\n",
    "else:\n",
    "    print(\"Given number is not present in the array\")\n",
    " \n"
   ]
  },
  {
   "cell_type": "markdown",
   "metadata": {},
   "source": [
    "### **Binary Search without Recursion Function**\n"
   ]
  },
  {
   "cell_type": "code",
   "execution_count": 30,
   "metadata": {},
   "outputs": [
    {
     "name": "stdout",
     "output_type": "stream",
     "text": [
      "Element present at index:  5\n"
     ]
    }
   ],
   "source": [
    "\n",
    "\n",
    "def binary_search(arr, num, start, end):\n",
    "    while start <= end:\n",
    "        mid = start + (end - start)//2\n",
    "\n",
    "        if arr[mid] == num:\n",
    "            return mid\n",
    "        elif arr[mid] < num:\n",
    "            start = mid + 1\n",
    "        else: \n",
    "            end = mid - 1 \n",
    "    return -1\n",
    "\n",
    "arr = [2, 6, 21, 43, 87, 92, 98]\n",
    "num = 92\n",
    "result = binary_search(arr, num, 0, len(arr)-1)\n",
    "if result != -1:\n",
    "    print(\"Element present at index: \",result)\n",
    "\n",
    "else:\n",
    "    print(\"Given number is not present in the array\")\n",
    " \n"
   ]
  },
  {
   "cell_type": "markdown",
   "metadata": {},
   "source": [
    "### **Binary Search First Infinity Without Recursion**\n"
   ]
  },
  {
   "cell_type": "code",
   "execution_count": 12,
   "metadata": {},
   "outputs": [
    {
     "name": "stdout",
     "output_type": "stream",
     "text": [
      "inf present at index:  7\n"
     ]
    }
   ],
   "source": [
    "def binary_search_first_inf(arr, start, end):\n",
    "    \n",
    "    while start <= end:\n",
    "        mid = start + (end - start) // 2\n",
    "\n",
    "        if arr[mid] == float('inf'):\n",
    "            if mid == 0 or arr[mid-1] != float('inf'):\n",
    "                return mid\n",
    "            else: \n",
    "                end = mid - 1\n",
    "\n",
    "        elif arr[mid] < float('inf'):\n",
    "            start = mid + 1  \n",
    "\n",
    "        else:\n",
    "            end = mid - 1  \n",
    "\n",
    "    return -1\n",
    "\n",
    "\n",
    "\n",
    "arr = [2, 6, 21, 43, 87, 92, 98, float('inf'), float('inf'), float('inf'), float('inf')]\n",
    "start = 0\n",
    "end = len(arr) - 1\n",
    "result = binary_search_first_inf(arr, start, end)\n",
    "if result != -1:\n",
    "    print(\"inf present at index: \", result)\n",
    "else: \n",
    "    print(\"infinity not present\" )\n"
   ]
  },
  {
   "cell_type": "markdown",
   "metadata": {},
   "source": [
    "### **Binary Search First Infinity With Recursion**"
   ]
  },
  {
   "cell_type": "code",
   "execution_count": 15,
   "metadata": {},
   "outputs": [
    {
     "name": "stdout",
     "output_type": "stream",
     "text": [
      "inf present at index:  7\n"
     ]
    }
   ],
   "source": [
    "def binary_search_first_inf(arr, start, end):\n",
    "    \n",
    "    while start <= end:\n",
    "        mid = start + (end - start) // 2\n",
    "\n",
    "        if arr[mid] == float('inf'):\n",
    "            if mid == 0 or arr[mid-1] != float('inf'):\n",
    "                return mid\n",
    "            else: \n",
    "                end = mid - 1\n",
    "                return binary_search_first_inf(arr, start, end)\n",
    "\n",
    "        elif arr[mid] < float('inf'):\n",
    "            start = mid + 1  \n",
    "            return binary_search_first_inf(arr, start, end)\n",
    "\n",
    "        else:\n",
    "            end = mid - 1  \n",
    "            return  binary_search_first_inf(arr, start, end)\n",
    "\n",
    "    return -1\n",
    "\n",
    "\n",
    "\n",
    "arr = [2, 6, 21, 43, 87, 92, 98, float('inf'), float('inf'), float('inf'), float('inf')]\n",
    "start = 0\n",
    "end = len(arr) - 1\n",
    "result = binary_search_first_inf(arr, start, end)\n",
    "if result != -1:\n",
    "    print(\"inf present at index: \", result)\n",
    "else: \n",
    "    print(\"infinity not present\" )\n"
   ]
  }
 ],
 "metadata": {
  "kernelspec": {
   "display_name": "Python 3",
   "language": "python",
   "name": "python3"
  },
  "language_info": {
   "codemirror_mode": {
    "name": "ipython",
    "version": 3
   },
   "file_extension": ".py",
   "mimetype": "text/x-python",
   "name": "python",
   "nbconvert_exporter": "python",
   "pygments_lexer": "ipython3",
   "version": "3.12.5"
  }
 },
 "nbformat": 4,
 "nbformat_minor": 2
}
