{
 "cells": [
  {
   "cell_type": "markdown",
   "metadata": {},
   "source": [
    "## **FAANG QUESTIONS**\n"
   ]
  },
  {
   "cell_type": "markdown",
   "metadata": {},
   "source": [
    "### **1.Best Time to Buy and Sell Stock**"
   ]
  },
  {
   "cell_type": "code",
   "execution_count": 2,
   "metadata": {},
   "outputs": [
    {
     "name": "stdout",
     "output_type": "stream",
     "text": [
      "The maximum price of buy and sell the stock is:  5\n"
     ]
    }
   ],
   "source": [
    "# Function Defination\n",
    "def find_max_profit(prices):\n",
    "    min_profit = float(\"inf\")\n",
    "    max_profit = 0\n",
    "    for i in range(len(prices)):\n",
    "        if prices[i] < min_profit:\n",
    "            min_profit = prices[i]\n",
    "        elif prices[i] - min_profit > max_profit:\n",
    "            max_profit = prices[i] - min_profit\n",
    "    return max_profit\n",
    "\n",
    "\n",
    "# Driver code\n",
    "prices = [7, 1, 5, 3, 6, 4]\n",
    "# Function Calling\n",
    "max_profit = find_max_profit(prices)\n",
    "print(\"The maximum price of buy and sell the stock is: \", max_profit)"
   ]
  },
  {
   "cell_type": "markdown",
   "metadata": {},
   "source": [
    "### **2.Check the Points are Collinear or Not**"
   ]
  },
  {
   "cell_type": "markdown",
   "metadata": {},
   "source": [
    "**Approach 1: Using Slope Concept**"
   ]
  },
  {
   "cell_type": "code",
   "execution_count": 16,
   "metadata": {},
   "outputs": [
    {
     "name": "stdout",
     "output_type": "stream",
     "text": [
      "The Points are Collinear!\n"
     ]
    }
   ],
   "source": [
    "## TC: O(1)\n",
    "## SC: O(1)\n",
    "# Function Defination\n",
    "def isCollinear(x1, x2, x3, y1, y2, y3):\n",
    "    if (x2 - x1) * (y3 - y2) == (x3 - x2) * (y3 - y1):\n",
    "        print(\"The Points are Collinear!\")\n",
    "    else:\n",
    "        print(\"The points are non-collinear!\")\n",
    "\n",
    "\n",
    "# Drivers Code\n",
    "x1, x2, x3, y1, y2, y3 = 1, 1, 1, 6, 0, 9\n",
    "# Function Calling\n",
    "isCollinear(x1, x2, x3, y1, y2, y3)"
   ]
  },
  {
   "cell_type": "markdown",
   "metadata": {},
   "source": [
    "**Approach 2: Using area of triangle**"
   ]
  },
  {
   "cell_type": "code",
   "execution_count": 20,
   "metadata": {},
   "outputs": [
    {
     "name": "stdout",
     "output_type": "stream",
     "text": [
      "The points are non-collinear!\n"
     ]
    }
   ],
   "source": [
    "## TC: O(1)\n",
    "## SC: O(1)\n",
    "## Function Defination\n",
    "def isCollinear(x1, x2, x3, y1, y2, y3):\n",
    "    if (0.5 * (x1 * (y2 - y3) + x2 * (y3 - y1) + x3 * (y1 - y2))) == 0:\n",
    "        print(\"The Points are Collinear!\")\n",
    "    else:\n",
    "        print(\"The points are non-collinear!\")\n",
    "\n",
    "\n",
    "# Drivers Code\n",
    "x1, x2, x3, y1, y2, y3 = 1, 2, 3, 6, 0, 9\n",
    "# Function Calling\n",
    "isCollinear(x1, x2, x3, y1, y2, y3)"
   ]
  },
  {
   "cell_type": "markdown",
   "metadata": {},
   "source": [
    "### **3.Majority Element**"
   ]
  },
  {
   "cell_type": "markdown",
   "metadata": {},
   "source": [
    "**Approach 1: Using Hashing**"
   ]
  },
  {
   "cell_type": "code",
   "execution_count": 26,
   "metadata": {},
   "outputs": [
    {
     "name": "stdout",
     "output_type": "stream",
     "text": [
      "1\n"
     ]
    }
   ],
   "source": [
    "from collections import Counter\n",
    "# Function defination\n",
    "def majority_element(arr):\n",
    "    count = Counter(arr)\n",
    "    return max(count.keys(), key=count.get)\n",
    "\n",
    "\n",
    "arr = [1, 1, 2, 2, 2, 1, 1]\n",
    "#Function Calling\n",
    "aprint(majority_element(arr))"
   ]
  },
  {
   "cell_type": "markdown",
   "metadata": {},
   "source": [
    "**Approach 2: Using Boyer Moore Voting Algorithm**"
   ]
  },
  {
   "cell_type": "code",
   "execution_count": 31,
   "metadata": {},
   "outputs": [
    {
     "name": "stdout",
     "output_type": "stream",
     "text": [
      "The Majority Element is:  2\n"
     ]
    }
   ],
   "source": [
    "def find_candidate(nums):\n",
    "    count = 0\n",
    "    candidate = None\n",
    "    for num in range(len(nums)):\n",
    "        if count == 0:\n",
    "            candidate = nums[num]\n",
    "        count += 1 if nums[num] == candidate else -1\n",
    "    return candidate\n",
    "\n",
    "\n",
    "def is_majority_element(nums, candidate):\n",
    "    count = 0\n",
    "    for num in range(len(nums)):\n",
    "        if nums[num] == candidate:\n",
    "            count += 1\n",
    "\n",
    "    if count > len(nums) / 2:\n",
    "        return True\n",
    "\n",
    "    return False\n",
    "\n",
    "\n",
    "def majority_element(nums):\n",
    "    candidate = find_candidate(nums)\n",
    "    is_majority = is_majority_element(nums, candidate)\n",
    "    if is_majority:\n",
    "        print(\"The Majority Element is: \", candidate)\n",
    "    else:\n",
    "        print(\"Majority Element is not Found\")\n",
    "\n",
    "\n",
    "nums = [1, 2, 1, 1, 2, 2, 1, 2]\n",
    "majority_element(nums)"
   ]
  },
  {
   "cell_type": "markdown",
   "metadata": {},
   "source": [
    "### **4.Sort Colors**"
   ]
  },
  {
   "cell_type": "code",
   "execution_count": 33,
   "metadata": {},
   "outputs": [
    {
     "name": "stdout",
     "output_type": "stream",
     "text": [
      "Sorted Array is: [0, 1, 2]\n"
     ]
    }
   ],
   "source": [
    "#Function Defination\n",
    "def sort_colors(arr):\n",
    "    p1 = 0\n",
    "    p2 = len(arr) - 1\n",
    "    curr = 0\n",
    "    while curr <= p2:\n",
    "        if arr[curr] == 0:\n",
    "            arr[p1], arr[curr] = arr[curr], arr[p1]\n",
    "            curr += 1\n",
    "            p1 += 1\n",
    "        elif arr[curr] == 2:\n",
    "            arr[p2], arr[curr] = arr[curr], arr[p2]\n",
    "            p2 -= 1\n",
    "        else:\n",
    "            curr += 1\n",
    "    return arr\n",
    "\n",
    "#Driver Code\n",
    "arr = [2,0,1]\n",
    "#Function Calling\n",
    "result = sort_colors(arr)\n",
    "print(\"Sorted Array is:\", result)"
   ]
  }
 ],
 "metadata": {
  "kernelspec": {
   "display_name": "Python 3",
   "language": "python",
   "name": "python3"
  },
  "language_info": {
   "codemirror_mode": {
    "name": "ipython",
    "version": 3
   },
   "file_extension": ".py",
   "mimetype": "text/x-python",
   "name": "python",
   "nbconvert_exporter": "python",
   "pygments_lexer": "ipython3",
   "version": "3.12.5"
  }
 },
 "nbformat": 4,
 "nbformat_minor": 2
}
