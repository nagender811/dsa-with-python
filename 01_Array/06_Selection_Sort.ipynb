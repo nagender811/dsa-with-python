{
 "cells": [
  {
   "cell_type": "markdown",
   "metadata": {},
   "source": [
    "### **Selection Sort**"
   ]
  },
  {
   "cell_type": "code",
   "execution_count": 28,
   "metadata": {},
   "outputs": [
    {
     "name": "stdout",
     "output_type": "stream",
     "text": [
      "Given Array: [30, 12, 23, 76, 43, 67, 90, 40, 5, 28, 46]\n",
      "Sorted Array:  [5, 12, 23, 28, 30, 40, 43, 46, 67, 76, 90]\n"
     ]
    }
   ],
   "source": [
    "# Method Defination\n",
    "def selection_sort(arr):\n",
    "\n",
    "    n = len(arr)\n",
    "    for i in range(n):\n",
    "        #To store the index of the minimum element\n",
    "        min = i\n",
    "        for j in range(i + 1, n):\n",
    "            if arr[min] > arr[j]:\n",
    "                min = j       \n",
    "        # Swap of the element at i and min\n",
    "        arr[min], arr[i] = arr[i], arr[min]\n",
    "\n",
    "    return arr\n",
    "\n",
    "\n",
    "# Driver code\n",
    "arr = [30, 12, 23, 76, 43, 67, 90, 40, 5, 28, 46]\n",
    "print(\"Given Array:\", arr)\n",
    "# Function Calling \n",
    "result = selection_sort(arr)\n",
    "print(\"Sorted Array: \", result)"
   ]
  }
 ],
 "metadata": {
  "kernelspec": {
   "display_name": "Python 3",
   "language": "python",
   "name": "python3"
  },
  "language_info": {
   "codemirror_mode": {
    "name": "ipython",
    "version": 3
   },
   "file_extension": ".py",
   "mimetype": "text/x-python",
   "name": "python",
   "nbconvert_exporter": "python",
   "pygments_lexer": "ipython3",
   "version": "3.12.5"
  }
 },
 "nbformat": 4,
 "nbformat_minor": 2
}
