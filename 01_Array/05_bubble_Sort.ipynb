{
 "cells": [
  {
   "cell_type": "markdown",
   "metadata": {},
   "source": [
    "## **Bubble Sort**"
   ]
  },
  {
   "cell_type": "code",
   "execution_count": 15,
   "metadata": {},
   "outputs": [
    {
     "name": "stdout",
     "output_type": "stream",
     "text": [
      "Given Array: [30, 12, 23, 76, 43, 67, 90, 40, 5, 28, 46]\n",
      "Sorted Array:  [5, 12, 23, 28, 30, 40, 43, 46, 67, 76, 90]\n"
     ]
    }
   ],
   "source": [
    "## Method Defination\n",
    "def bubble_sort(arr):\n",
    "    for i in range(len(arr) ):\n",
    "        for j in range(len(arr) - i - 1):       # Last Element is already Sorted\n",
    "            if arr[j] > arr[j + 1]:\n",
    "                arr[j], arr[j + 1] = arr[j + 1], arr[j]\n",
    "    return arr\n",
    "\n",
    "#Driver Array\n",
    "arr = [30, 12, 23, 76, 43, 67, 90, 40, 5, 28, 46]\n",
    "print(\"Given Array:\", arr)\n",
    "result = bubble_sort(arr)\n",
    "print(\"Sorted Array: \", result)"
   ]
  }
 ],
 "metadata": {
  "kernelspec": {
   "display_name": "Python 3",
   "language": "python",
   "name": "python3"
  },
  "language_info": {
   "codemirror_mode": {
    "name": "ipython",
    "version": 3
   },
   "file_extension": ".py",
   "mimetype": "text/x-python",
   "name": "python",
   "nbconvert_exporter": "python",
   "pygments_lexer": "ipython3",
   "version": "3.12.5"
  }
 },
 "nbformat": 4,
 "nbformat_minor": 2
}
