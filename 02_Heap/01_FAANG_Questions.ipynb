{
 "cells": [
  {
   "cell_type": "markdown",
   "metadata": {},
   "source": [
    "## **Top K Frequent Elements**"
   ]
  },
  {
   "cell_type": "markdown",
   "metadata": {},
   "source": [
    "### **Using Heap**"
   ]
  },
  {
   "cell_type": "code",
   "execution_count": 3,
   "metadata": {},
   "outputs": [
    {
     "name": "stdout",
     "output_type": "stream",
     "text": [
      "{1, 2, 3}\n"
     ]
    }
   ],
   "source": [
    "from collections import Counter\n",
    "import heapq\n",
    "def top_k_frequent_elements(arr, k):\n",
    "    if k == len(arr):\n",
    "        return set(arr)\n",
    "    counts = Counter(arr)\n",
    "    return heapq.nlargest(k, counts.keys(), counts.get)\n",
    "\n",
    "arr = [1,1,1,1,2,2,3]\n",
    "k = 7\n",
    "result = top_k_frequent_elements(arr, k)\n",
    "print(result)"
   ]
  },
  {
   "cell_type": "markdown",
   "metadata": {},
   "source": [
    "## **K Closest Points to Origin**"
   ]
  },
  {
   "cell_type": "code",
   "execution_count": 1,
   "metadata": {},
   "outputs": [
    {
     "name": "stdout",
     "output_type": "stream",
     "text": [
      "Closest Points are:  [[3, 3], [-2, 4]]\n"
     ]
    }
   ],
   "source": [
    "import math\n",
    "from heapq import heappush, heappop\n",
    "\n",
    "def get_distance(x,y):\n",
    "    return math.sqrt(x**2 + y**2)\n",
    "\n",
    "def k_closest(points, k):\n",
    "\n",
    "    min_heap = []\n",
    "    for i in range(len(points)):\n",
    "        x = points[i][0]\n",
    "        y = points[i][1]\n",
    "        heappush(min_heap, (get_distance(x,y), points[i]))\n",
    "     \n",
    "    result = []\n",
    "    for i in range(k):\n",
    "        result.append(heappop(min_heap)[1])\n",
    "\n",
    "    return result\n",
    "\n",
    "\n",
    "#drivers code\n",
    "points = [[3,3],[5,-1],[-2,4]]\n",
    "k = 2\n",
    "result = k_closest(points, k)\n",
    "print(\"Closest Points are: \", result)\n"
   ]
  }
 ],
 "metadata": {
  "kernelspec": {
   "display_name": "Python 3",
   "language": "python",
   "name": "python3"
  },
  "language_info": {
   "codemirror_mode": {
    "name": "ipython",
    "version": 3
   },
   "file_extension": ".py",
   "mimetype": "text/x-python",
   "name": "python",
   "nbconvert_exporter": "python",
   "pygments_lexer": "ipython3",
   "version": "3.12.5"
  }
 },
 "nbformat": 4,
 "nbformat_minor": 2
}
